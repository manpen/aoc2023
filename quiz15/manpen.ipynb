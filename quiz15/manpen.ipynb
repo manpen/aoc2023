{
 "cells": [
  {
   "cell_type": "code",
   "execution_count": 27,
   "metadata": {},
   "outputs": [
    {
     "name": "stdout",
     "output_type": "stream",
     "text": [
      "Quiz 1: 513214\n",
      "Quiz 2: 258826\n"
     ]
    }
   ],
   "source": [
    "with open(\"manpen.txt\") as f:\n",
    "    text = f.read()\n",
    "\n",
    "example = \"\"\"rn=1,cm-,qp=3,cm=2,qp-,pc=4,ot=9,ab=5,pc-,pc=6,ot=7\"\"\"\n",
    "\n",
    "def fhash(text):\n",
    "    text = text.strip()\n",
    "\n",
    "    cur = 0\n",
    "    for c in text:\n",
    "        cur += ord(c)\n",
    "        cur *= 17 \n",
    "        cur = cur % 256\n",
    "\n",
    "    return cur\n",
    "\n",
    "def quiz(text):\n",
    "    sum = 0\n",
    "    for word in text.split(\",\"):\n",
    "        sum += fhash(word)\n",
    "    return sum\n",
    "\n",
    "def quiz2(text):\n",
    "    box = [[] for _ in range(256)]\n",
    "    for word in text.split(\",\"):\n",
    "        label, value = word.split(\"=\" if \"=\" in word else \"-\")\n",
    "        h = fhash(label)\n",
    "\n",
    "        idx = None\n",
    "        for i, x in enumerate(box[h]):\n",
    "            if x[0] == label:\n",
    "                idx = i\n",
    "\n",
    "        if \"-\" in word:\n",
    "            if idx != None:\n",
    "                box[h].pop(idx)\n",
    "        else:\n",
    "            value = int(value)\n",
    "            if idx == None:\n",
    "                box[h].append([label, value])\n",
    "            else:\n",
    "                box[h][idx] = [label, value]\n",
    "\n",
    "    sum = 0\n",
    "    for bi, b in enumerate(box):\n",
    "        for si, l in enumerate(b):\n",
    "            sum += (bi + 1) * (si + 1) * l[1]\n",
    "\n",
    "    return sum\n",
    "\n",
    "assert fhash(\"rn=1\") == 30\n",
    "assert quiz(example) == 1320\n",
    "assert quiz2(example) == 145\n",
    "\n",
    "print(\"Quiz 1:\", quiz(text))\n",
    "print(\"Quiz 2:\", quiz2(text))\n"
   ]
  },
  {
   "cell_type": "code",
   "execution_count": null,
   "metadata": {},
   "outputs": [],
   "source": []
  }
 ],
 "metadata": {
  "kernelspec": {
   "display_name": "pyenv",
   "language": "python",
   "name": "python3"
  },
  "language_info": {
   "codemirror_mode": {
    "name": "ipython",
    "version": 3
   },
   "file_extension": ".py",
   "mimetype": "text/x-python",
   "name": "python",
   "nbconvert_exporter": "python",
   "pygments_lexer": "ipython3",
   "version": "3.10.12"
  }
 },
 "nbformat": 4,
 "nbformat_minor": 2
}
