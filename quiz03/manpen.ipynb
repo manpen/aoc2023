{
 "cells": [
  {
   "cell_type": "code",
   "execution_count": 43,
   "metadata": {},
   "outputs": [],
   "source": [
    "import re\n",
    "from itertools import *\n",
    "\n",
    "example = \"\"\"467..114..\n",
    "...*......\n",
    "..35..633.\n",
    "......#...\n",
    "617*......\n",
    ".....+.58.\n",
    "..592.....\n",
    "......755.\n",
    "...$.*....\n",
    ".664.598..\"\"\".splitlines()\n",
    "\n"
   ]
  },
  {
   "cell_type": "code",
   "execution_count": 42,
   "metadata": {},
   "outputs": [
    {
     "name": "stdout",
     "output_type": "stream",
     "text": [
      "Quiz1:  525181\n",
      "Quiz2:  84289137\n"
     ]
    }
   ],
   "source": [
    "def quiz1(lines):\n",
    "    ex_sym = re.compile(r'[^\\d\\.]')\n",
    "    sum = 0\n",
    "    for l in range(len(lines)):\n",
    "        line = lines[l]\n",
    "        for m in re.finditer(r'\\d+', line):\n",
    "            b = max(0, m.start() - 1)\n",
    "            e = min(len(line), m.end() + 1)\n",
    "\n",
    "            if any(ex_sym.search(lines[j][b:e]) for j in range(max(0, l-1), min(len(lines), l + 2))):\n",
    "                sum += int(m.group(0))\n",
    "\n",
    "    return sum\n",
    "assert(quiz1(example) == 4361)\n",
    "\n",
    "def quiz2(lines):\n",
    "    w, h = len(lines[0]), len(lines)\n",
    "\n",
    "    # Build matrix of numbers    \n",
    "    numbs = [ [None] * w for _ in range(h) ]\n",
    "    num_idx = 0\n",
    "    for (y, line) in enumerate(lines):\n",
    "        for m in re.finditer(r'\\d+', line):\n",
    "            for x in range(m.start(), m.end()):\n",
    "                numbs[y][x] = (num_idx, int(m.group(0)))\n",
    "            num_idx += 1\n",
    "\n",
    "    # Find all gears\n",
    "    sum = 0\n",
    "    for (y, line) in enumerate(lines):\n",
    "        for x in map(lambda x: x.start(), re.finditer(r'\\*', line)):\n",
    "            adj_nums = set()\n",
    "\n",
    "            for (nx, ny) in product([x-1, x, x+1], [y-1, y, y+1]):\n",
    "                if 0 <= nx < w and 0 <= ny < h and numbs[ny][nx] is not None:\n",
    "                    adj_nums.add(numbs[ny][nx])\n",
    "\n",
    "            if len(adj_nums) == 2:\n",
    "                sum += adj_nums.pop()[1] * adj_nums.pop()[1]\n",
    "\n",
    "    return sum\n",
    "\n",
    "assert(quiz2(example) == 467835)\n",
    "\n",
    "with open(\"manpen.txt\") as f:\n",
    "    input = f.read().splitlines()\n",
    "\n",
    "print(\"Quiz1: \", quiz1(input))  \n",
    "print(\"Quiz2: \", quiz2(input))  "
   ]
  },
  {
   "cell_type": "code",
   "execution_count": null,
   "metadata": {},
   "outputs": [],
   "source": []
  }
 ],
 "metadata": {
  "kernelspec": {
   "display_name": "Python 3",
   "language": "python",
   "name": "python3"
  },
  "language_info": {
   "codemirror_mode": {
    "name": "ipython",
    "version": 3
   },
   "file_extension": ".py",
   "mimetype": "text/x-python",
   "name": "python",
   "nbconvert_exporter": "python",
   "pygments_lexer": "ipython3",
   "version": "3.10.12"
  }
 },
 "nbformat": 4,
 "nbformat_minor": 2
}
