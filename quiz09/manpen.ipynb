{
 "cells": [
  {
   "cell_type": "code",
   "execution_count": 6,
   "metadata": {},
   "outputs": [],
   "source": [
    "import re\n",
    "import math\n",
    "from itertools import cycle\n",
    "import numpy as np\n",
    "example=\"\"\"0 3 6 9 12 15\n",
    "1 3 6 10 15 21\n",
    "10 13 16 21 30 45\"\"\"\n",
    "\n",
    "with open(\"manpen.txt\") as f:\n",
    "    text = f.read()"
   ]
  },
  {
   "cell_type": "code",
   "execution_count": 20,
   "metadata": {},
   "outputs": [
    {
     "name": "stdout",
     "output_type": "stream",
     "text": [
      "[0, 3, 0]\n",
      "0\n",
      "3\n",
      "-3\n",
      "[1, 2, 1, 0]\n",
      "1\n",
      "1\n",
      "0\n",
      "0\n",
      "[10, 3, 0, 2, 0]\n",
      "10\n",
      "-7\n",
      "7\n",
      "-5\n",
      "5\n"
     ]
    },
    {
     "ename": "AssertionError",
     "evalue": "",
     "output_type": "error",
     "traceback": [
      "\u001b[0;31m---------------------------------------------------------------------------\u001b[0m",
      "\u001b[0;31mAssertionError\u001b[0m                            Traceback (most recent call last)",
      "Cell \u001b[0;32mIn[20], line 37\u001b[0m\n\u001b[1;32m     34\u001b[0m     \u001b[38;5;28;01mreturn\u001b[39;00m \u001b[38;5;28msum\u001b[39m\n\u001b[1;32m     36\u001b[0m \u001b[38;5;28;01massert\u001b[39;00m quiz1(example) \u001b[38;5;241m==\u001b[39m \u001b[38;5;241m114\u001b[39m \n\u001b[0;32m---> 37\u001b[0m \u001b[38;5;28;01massert\u001b[39;00m quiz2(example) \u001b[38;5;241m==\u001b[39m \u001b[38;5;241m2\u001b[39m\n\u001b[1;32m     39\u001b[0m \u001b[38;5;28mprint\u001b[39m(\u001b[38;5;124m\"\u001b[39m\u001b[38;5;124mQuiz1:\u001b[39m\u001b[38;5;124m\"\u001b[39m, quiz1(text))\n\u001b[1;32m     40\u001b[0m \u001b[38;5;28mprint\u001b[39m(\u001b[38;5;124m\"\u001b[39m\u001b[38;5;124mQuiz2:\u001b[39m\u001b[38;5;124m\"\u001b[39m, quiz2(text))\n",
      "\u001b[0;31mAssertionError\u001b[0m: "
     ]
    }
   ],
   "source": [
    "def parse(text):\n",
    "    return [list(map(int, line.split())) for line in text.splitlines()]\n",
    "\n",
    "def quiz1(text):\n",
    "    data = parse(text)\n",
    "    sum = 0\n",
    "    for line in data:\n",
    "        cur = np.array(line)\n",
    "        inter = cur[-1]\n",
    "        while(any(cur != 0)):\n",
    "            cur = cur[1:] - cur[:-1]\n",
    "            inter += cur[-1]\n",
    "        sum += inter\n",
    "\n",
    "    return sum\n",
    "\n",
    "def quiz2(text):\n",
    "    data = parse(text)\n",
    "    sum = 0\n",
    "    for line in data:\n",
    "        cur = np.array(line)\n",
    "        inter = [cur[0]]\n",
    "        while(any(cur != 0)):\n",
    "            cur = cur[1:] - cur[:-1]\n",
    "            inter.append(cur[0])\n",
    "        print(inter, )\n",
    "\n",
    "        cur = 0\n",
    "        for x in reversed(inter):\n",
    "            cur = x - cur\n",
    "            print(cur)\n",
    "        sum += cur\n",
    "\n",
    "    return sum\n",
    "\n",
    "assert quiz1(example) == 114 \n",
    "assert quiz2(example) == 2\n",
    "\n",
    "print(\"Quiz1:\", quiz1(text))\n",
    "print(\"Quiz2:\", quiz2(text))"
   ]
  },
  {
   "cell_type": "code",
   "execution_count": null,
   "metadata": {},
   "outputs": [],
   "source": []
  }
 ],
 "metadata": {
  "kernelspec": {
   "display_name": "Python 3",
   "language": "python",
   "name": "python3"
  },
  "language_info": {
   "codemirror_mode": {
    "name": "ipython",
    "version": 3
   },
   "file_extension": ".py",
   "mimetype": "text/x-python",
   "name": "python",
   "nbconvert_exporter": "python",
   "pygments_lexer": "ipython3",
   "version": "3.10.12"
  }
 },
 "nbformat": 4,
 "nbformat_minor": 2
}
