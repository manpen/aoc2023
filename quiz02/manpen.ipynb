{
 "cells": [
  {
   "cell_type": "code",
   "execution_count": 9,
   "metadata": {},
   "outputs": [],
   "source": [
    "import re\n",
    "ex1 = \"\"\"Game 1: 3 blue, 4 red; 1 red, 2 green, 6 blue; 2 green\n",
    "Game 2: 1 blue, 2 green; 3 green, 4 blue, 1 red; 1 green, 1 blue\n",
    "Game 3: 8 green, 6 blue, 20 red; 5 blue, 4 red, 13 green; 5 green, 1 red\n",
    "Game 4: 1 green, 3 red, 6 blue; 3 green, 6 red; 3 green, 15 blue, 14 red\n",
    "Game 5: 6 red, 1 blue, 3 green; 2 blue, 1 red, 2 green\"\"\"\n",
    "\n",
    "with open(\"manpen.txt\") as f:\n",
    "    text = f.read()"
   ]
  },
  {
   "cell_type": "code",
   "execution_count": 22,
   "metadata": {},
   "outputs": [
    {
     "name": "stdout",
     "output_type": "stream",
     "text": [
      "Quiz1:  2716\n",
      "Quiz2:  72227\n"
     ]
    }
   ],
   "source": [
    "def max_colors(line):\n",
    "    v = {\"blue\": 0, \"red\": 0, \"green\": 0}\n",
    "    for m in re.finditer(r'\\D(\\d+) (blue|red|green)', line):\n",
    "        v[m.group(2)] = max(v[m.group(2)],  int(m.group(1)))\n",
    "    return v\n",
    "\n",
    "assert(max_colors(\"Game 3: 8 green, 6 blue, 20 red; 5 blue, 4 red, 13 green; 5 green, 1 red\")\n",
    "        == {'blue': 6, 'red': 20, 'green': 13})\n",
    "\n",
    "def quiz1(text):\n",
    "    sum = 0\n",
    "    for line in text.split(\"\\n\"):\n",
    "        colors = max_colors(line)\n",
    "        if colors[\"red\"] <= 12 and colors[\"green\"] <= 13 and colors[\"blue\"] <= 14:\n",
    "            sum += int(re.match(r'Game (\\d+):', line).group(1))\n",
    "    return sum\n",
    "\n",
    "def quiz2(text):\n",
    "    sum = 0\n",
    "    for line in text.split(\"\\n\"):\n",
    "        colors = max_colors(line)\n",
    "        sum += colors[\"red\"] * colors[\"green\"] * colors[\"blue\"]\n",
    "    return sum\n",
    "\n",
    "assert(quiz1(ex1) == 8)\n",
    "assert(quiz2(ex1) == 2286)\n",
    "\n",
    "print(\"Quiz1: \", quiz1(text))\n",
    "print(\"Quiz2: \", quiz2(text))\n"
   ]
  },
  {
   "cell_type": "code",
   "execution_count": 23,
   "metadata": {},
   "outputs": [
    {
     "ename": "NameError",
     "evalue": "name 'prod' is not defined",
     "output_type": "error",
     "traceback": [
      "\u001b[0;31m---------------------------------------------------------------------------\u001b[0m",
      "\u001b[0;31mNameError\u001b[0m                                 Traceback (most recent call last)",
      "\u001b[0;32m/tmp/ipykernel_718235/3842257283.py\u001b[0m in \u001b[0;36m<module>\u001b[0;34m\u001b[0m\n\u001b[0;32m----> 1\u001b[0;31m \u001b[0mprod\u001b[0m\u001b[0;34m(\u001b[0m\u001b[0;34m[\u001b[0m\u001b[0;36m1\u001b[0m\u001b[0;34m,\u001b[0m\u001b[0;36m2\u001b[0m\u001b[0;34m,\u001b[0m\u001b[0;36m3\u001b[0m\u001b[0;34m]\u001b[0m\u001b[0;34m)\u001b[0m\u001b[0;34m\u001b[0m\u001b[0;34m\u001b[0m\u001b[0m\n\u001b[0m",
      "\u001b[0;31mNameError\u001b[0m: name 'prod' is not defined"
     ]
    }
   ],
   "source": []
  },
  {
   "cell_type": "code",
   "execution_count": null,
   "metadata": {},
   "outputs": [],
   "source": []
  }
 ],
 "metadata": {
  "kernelspec": {
   "display_name": "Python 3",
   "language": "python",
   "name": "python3"
  },
  "language_info": {
   "codemirror_mode": {
    "name": "ipython",
    "version": 3
   },
   "file_extension": ".py",
   "mimetype": "text/x-python",
   "name": "python",
   "nbconvert_exporter": "python",
   "pygments_lexer": "ipython3",
   "version": "3.10.12"
  }
 },
 "nbformat": 4,
 "nbformat_minor": 2
}
