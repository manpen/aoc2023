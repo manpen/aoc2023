{
 "cells": [
  {
   "cell_type": "code",
   "execution_count": 11,
   "metadata": {},
   "outputs": [],
   "source": [
    "import re\n",
    "import math\n",
    "from itertools import cycle\n",
    "example=\"\"\"RL\n",
    "\n",
    "AAA = (BBB, CCC)\n",
    "BBB = (DDD, EEE)\n",
    "CCC = (ZZZ, GGG)\n",
    "DDD = (DDD, DDD)\n",
    "EEE = (EEE, EEE)\n",
    "GGG = (GGG, GGG)\n",
    "ZZZ = (ZZZ, ZZZ)\"\"\"\n",
    "\n",
    "\n",
    "example2=\"\"\"LR\n",
    "\n",
    "11A = (11B, XXX)\n",
    "11B = (XXX, 11Z)\n",
    "11Z = (11B, XXX)\n",
    "22A = (22B, XXX)\n",
    "22B = (22C, 22C)\n",
    "22C = (22Z, 22Z)\n",
    "22Z = (22B, 22B)\n",
    "XXX = (XXX, XXX)\"\"\"\n",
    "\n",
    "with open(\"manpen.txt\") as f:\n",
    "    text = f.read()"
   ]
  },
  {
   "cell_type": "code",
   "execution_count": 13,
   "metadata": {},
   "outputs": [
    {
     "name": "stdout",
     "output_type": "stream",
     "text": [
      "18215611419223\n"
     ]
    }
   ],
   "source": [
    "def parse(text):\n",
    "    lines = text.splitlines()\n",
    "    edges = []\n",
    "    nodes = {'AAA': 0, 'ZZZ': 1}\n",
    "    opts = {}\n",
    "    seq = lines[0].strip()\n",
    "\n",
    "    for line in lines[2:]:\n",
    "        m = re.match(r\"(\\w+) = \\((\\w+), (\\w+)\\)\", line)\n",
    "        for i in range(1, 4):\n",
    "            if m.group(i) not in nodes:\n",
    "                nodes[m.group(i)] = len(nodes)\n",
    "\n",
    "        edges.append((nodes[m.group(1)], nodes[m.group(2)]))\n",
    "        edges.append((nodes[m.group(1)], nodes[m.group(3)]))\n",
    "        opts[m.group(1)] = (m.group(2), m.group(3))\n",
    "\n",
    "    return (seq, opts)\n",
    "\n",
    "def BFS(edges):\n",
    "    queues = [0, 'N']\n",
    "    seen = set()\n",
    "    depth = 0 \n",
    "    while True:\n",
    "        u = queues.pop(0)\n",
    "        if u == 'N':\n",
    "            depth += 1\n",
    "            queues.append('N')\n",
    "            continue\n",
    "        \n",
    "        for (v, w) in edges:\n",
    "            if v == u and w not in seen:\n",
    "                if w == 1:\n",
    "                    return depth + 1\n",
    "                \n",
    "                queues.append(w)\n",
    "                seen.add(w)\n",
    "    return depth\n",
    "\n",
    "def quiz1(input):\n",
    "    seq, opts = input\n",
    "    cur = \"AAA\"\n",
    "    for i, dir in enumerate(cycle(seq)):\n",
    "        if cur == \"ZZZ\":\n",
    "            return i\n",
    "        \n",
    "        cur = opts[cur][0 if dir == \"L\" else 1]\n",
    "\n",
    "def start_from(input, start):\n",
    "    seq, opts = input\n",
    "    cur = start\n",
    "    for i, dir in enumerate(cycle(seq)):\n",
    "        if cur.endswith(\"Z\"):\n",
    "            return i\n",
    "        \n",
    "        cur = opts[cur][0 if dir == \"L\" else 1]\n",
    "\n",
    "def quiz2(input):\n",
    "    seq, opts = input\n",
    "\n",
    "    dists = [start_from(input, x) for x in opts.keys() if x.endswith(\"A\")]\n",
    "\n",
    "    return math.lcm(*dists)\n",
    "\n",
    "print(quiz2(parse(text)))"
   ]
  },
  {
   "cell_type": "code",
   "execution_count": null,
   "metadata": {},
   "outputs": [],
   "source": [
    "iter"
   ]
  }
 ],
 "metadata": {
  "kernelspec": {
   "display_name": "Python 3",
   "language": "python",
   "name": "python3"
  },
  "language_info": {
   "codemirror_mode": {
    "name": "ipython",
    "version": 3
   },
   "file_extension": ".py",
   "mimetype": "text/x-python",
   "name": "python",
   "nbconvert_exporter": "python",
   "pygments_lexer": "ipython3",
   "version": "3.10.12"
  }
 },
 "nbformat": 4,
 "nbformat_minor": 2
}
