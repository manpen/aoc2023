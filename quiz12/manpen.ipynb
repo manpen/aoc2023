{
 "cells": [
  {
   "cell_type": "code",
   "execution_count": 1,
   "metadata": {},
   "outputs": [],
   "source": [
    "import re\n",
    "from itertools import product\n",
    "\n",
    "with open(\"manpen.txt\") as f:\n",
    "    text = f.read()\n",
    "\n",
    "example = \"\"\"???.### 1,1,3\n",
    ".??..??...?##. 1,1,3\n",
    "?#?#?#?#?#?#?#? 1,3,1,6\n",
    "????.#...#... 4,1,1\n",
    "????.######..#####. 1,6,5\n",
    "?###???????? 3,2,1\"\"\""
   ]
  },
  {
   "cell_type": "code",
   "execution_count": 12,
   "metadata": {},
   "outputs": [
    {
     "name": "stdout",
     "output_type": "stream",
     "text": [
      "Quiz1: 7251\n",
      "Quiz2: 2128386729962\n"
     ]
    }
   ],
   "source": [
    "mem = {}\n",
    "\n",
    "# implement memorization\n",
    "def fillr(text, sig):\n",
    "    global mem\n",
    "    key = \"%s|%s\" % (text, \",\".join(map(lambda x: str(x), sig)))\n",
    "    if key in mem:\n",
    "        return mem[key]\n",
    "    \n",
    "    res = fill(text, sig)\n",
    "    mem[key] = res \n",
    "    return res\n",
    "\n",
    "\n",
    "def fill(text, sig):\n",
    "    if len(sig) == 0:\n",
    "        return \"#\" not in text\n",
    "\n",
    "    while text.startswith(\".\"):\n",
    "        text = text[1:]    \n",
    "\n",
    "    if len(text) < sum(sig) + len(sig) - 1:\n",
    "        return False\n",
    "    \n",
    "    if len(text) == sig[0]:\n",
    "        return \".\" not in text[:sig[0]]\n",
    "\n",
    "    opts = 0\n",
    "    if text[0] == \"?\":\n",
    "        opts += fillr(text[1:], sig) # place a dot\n",
    "\n",
    "    if \".\" not in text[:sig[0]] and text[sig[0]] != \"#\":\n",
    "        opts += fillr(text[sig[0] + 1:], sig[1:]) # place sig[0] # and a dot\n",
    "\n",
    "    return opts\n",
    "\n",
    "\n",
    "def quiz(text, unfold=False):\n",
    "    lines = (x.strip() for x in text.split(\"\\n\"))\n",
    "    sum = 0\n",
    "    for line in lines:\n",
    "        text, sig = line.split(\" \")\n",
    "        sig = [int(x) for x in sig.split(\",\")]\n",
    "        mem = {}\n",
    "        if unfold:\n",
    "            n = fillr(\"?\".join([text] * 5), sig * 5)\n",
    "        else:\n",
    "            n = fillr(text, sig)\n",
    "        sum += n\n",
    "    return sum\n",
    "\n",
    "assert quiz(example, False) == 21\n",
    "assert quiz(example, True) == 525152\n",
    "\n",
    "print(\"Quiz1:\", quiz(text, False))\n",
    "print(\"Quiz2:\", quiz(text, True))\n"
   ]
  },
  {
   "cell_type": "code",
   "execution_count": null,
   "metadata": {},
   "outputs": [],
   "source": []
  }
 ],
 "metadata": {
  "kernelspec": {
   "display_name": "pyenv",
   "language": "python",
   "name": "python3"
  },
  "language_info": {
   "codemirror_mode": {
    "name": "ipython",
    "version": 3
   },
   "file_extension": ".py",
   "mimetype": "text/x-python",
   "name": "python",
   "nbconvert_exporter": "python",
   "pygments_lexer": "ipython3",
   "version": "3.10.12"
  }
 },
 "nbformat": 4,
 "nbformat_minor": 2
}
