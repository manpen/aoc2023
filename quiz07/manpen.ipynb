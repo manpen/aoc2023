{
 "cells": [
  {
   "cell_type": "code",
   "execution_count": 4,
   "metadata": {},
   "outputs": [],
   "source": [
    "example = \"\"\"32T3K 765\n",
    "T55J5 684\n",
    "KK677 28\n",
    "KTJJT 220\n",
    "QQQJA 483\"\"\"\n",
    "\n",
    "with open(\"manpen.txt\") as f:\n",
    "    text = f.read()"
   ]
  },
  {
   "cell_type": "code",
   "execution_count": 19,
   "metadata": {},
   "outputs": [
    {
     "name": "stdout",
     "output_type": "stream",
     "text": [
      "Quiz1:  248812215\n",
      "Quiz2:  250057090\n"
     ]
    }
   ],
   "source": [
    "def parse(text, weak_joker=False):\n",
    "    def cscore(card):\n",
    "        if weak_joker:\n",
    "            return \"AKQT98765432J\"[::-1].index(card)\n",
    "        else:\n",
    "            return \"AKQJT98765432\"[::-1].index(card)\n",
    "    \n",
    "    def hscore(hand):\n",
    "        s = sorted(hand.count(c) for c in set(hand))[::-1]\n",
    "        return [ [5], [4, 1], [3, 2], [3, 1, 1], [2, 2, 1], [2, 1, 1, 1], [1, 1, 1, 1, 1] ][::-1].index(s)\n",
    "\n",
    "    def hscore2(hand):\n",
    "        if hand.count(\"J\") == 0:\n",
    "            return hscore(hand)\n",
    "        \n",
    "\n",
    "        wo_joker = hand.replace(\"J\", \"\")\n",
    "        s = sorted(hand.count(c) for c in set(wo_joker))[::-1]\n",
    "        if s == []: s = [0]\n",
    "        s[0] += hand.count(\"J\")\n",
    "        return [ [5], [4, 1], [3, 2], [3, 1, 1], [2, 2, 1], [2, 1, 1, 1], [1, 1, 1, 1, 1] ][::-1].index(s)\n",
    "\n",
    "    hands = []\n",
    "    for line in text.split(\"\\n\"):\n",
    "        h, bid = line.split(\" \")\n",
    "\n",
    "        hand = (cscore(h[0]), cscore(h[1]), cscore(h[2]), cscore(h[3]), cscore(h[4]))\n",
    "        hs = hscore2(h) if weak_joker else hscore(h)\n",
    "\n",
    "        hands.append((hs, hand, int(bid)))\n",
    "\n",
    "    return sorted(hands)\n",
    "\n",
    "def quiz(text, weak_joker=False):\n",
    "    hands = parse(text, weak_joker)\n",
    "    score = 0\n",
    "    for i, (_, _, bid) in enumerate(hands):\n",
    "        score += (i + 1) * bid\n",
    "    return score\n",
    "\n",
    "assert quiz(example) == 6440\n",
    "assert quiz(example, True) == 5905\n",
    "\n",
    "print(\"Quiz1: \", quiz(text))\n",
    "print(\"Quiz2: \", quiz(text, True))\n"
   ]
  },
  {
   "cell_type": "code",
   "execution_count": null,
   "metadata": {},
   "outputs": [],
   "source": []
  }
 ],
 "metadata": {
  "kernelspec": {
   "display_name": "Python 3",
   "language": "python",
   "name": "python3"
  },
  "language_info": {
   "codemirror_mode": {
    "name": "ipython",
    "version": 3
   },
   "file_extension": ".py",
   "mimetype": "text/x-python",
   "name": "python",
   "nbconvert_exporter": "python",
   "pygments_lexer": "ipython3",
   "version": "3.10.12"
  }
 },
 "nbformat": 4,
 "nbformat_minor": 2
}
