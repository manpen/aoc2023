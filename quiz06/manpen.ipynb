{
 "cells": [
  {
   "cell_type": "code",
   "execution_count": 8,
   "metadata": {},
   "outputs": [],
   "source": [
    "text=\"\"\"Time:        44     80     65     72\n",
    "Distance:   208   1581   1050   1102\n",
    "\"\"\"\n",
    "\n",
    "text2=\"\"\"Time:        44806572\n",
    "Distance:   208158110501102\n",
    "\"\"\"\n",
    "\n",
    "example=\"\"\"Time:      7  15   30\n",
    "Distance:  9  40  200\"\"\""
   ]
  },
  {
   "cell_type": "code",
   "execution_count": 9,
   "metadata": {},
   "outputs": [
    {
     "name": "stdout",
     "output_type": "stream",
     "text": [
      "32076\n",
      "34278221\n"
     ]
    }
   ],
   "source": [
    "def parse(text):\n",
    "    lines = text.splitlines()\n",
    "    times = [int(x) for x in lines[0].split()[1:]]\n",
    "    distances = [int(x) for x in lines[1].split()[1:]]\n",
    "    return list(zip(times, distances))\n",
    "\n",
    "def quiz1(text):\n",
    "    data = parse(text)\n",
    "    score = 1\n",
    "    # no need to analytically solve this, brute force is fast enough \n",
    "    for t,d in data:\n",
    "        score *= sum(1 for push in range(t) if push * (t-push) > d   )\n",
    "\n",
    "    return score\n",
    "\n",
    "assert quiz1(example) == 288\n",
    "print(quiz1(text))  \n",
    "print(quiz1(text2))  "
   ]
  },
  {
   "cell_type": "code",
   "execution_count": null,
   "metadata": {},
   "outputs": [],
   "source": []
  }
 ],
 "metadata": {
  "kernelspec": {
   "display_name": "Python 3",
   "language": "python",
   "name": "python3"
  },
  "language_info": {
   "codemirror_mode": {
    "name": "ipython",
    "version": 3
   },
   "file_extension": ".py",
   "mimetype": "text/x-python",
   "name": "python",
   "nbconvert_exporter": "python",
   "pygments_lexer": "ipython3",
   "version": "3.10.12"
  }
 },
 "nbformat": 4,
 "nbformat_minor": 2
}
