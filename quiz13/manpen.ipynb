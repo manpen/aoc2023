{
 "cells": [
  {
   "cell_type": "code",
   "execution_count": 61,
   "metadata": {},
   "outputs": [],
   "source": [
    "import re\n",
    "from itertools import product\n",
    "import numpy as np\n",
    "\n",
    "with open(\"manpen.txt\") as f:\n",
    "    text = f.read()\n",
    "\n",
    "example = \"\"\"#.##..##.\n",
    "..#.##.#.\n",
    "##......#\n",
    "##......#\n",
    "..#.##.#.\n",
    "..##..##.\n",
    "#.#.##.#.\n",
    "\n",
    "#...##..#\n",
    "#....#..#\n",
    "..##..###\n",
    "#####.##.\n",
    "#####.##.\n",
    "..##..###\n",
    "#....#..#\n",
    "\"\"\""
   ]
  },
  {
   "cell_type": "code",
   "execution_count": 68,
   "metadata": {},
   "outputs": [
    {
     "name": "stdout",
     "output_type": "stream",
     "text": [
      "33728\n",
      "28235\n"
     ]
    }
   ],
   "source": [
    "def get_patterns(text):\n",
    "    patterns = text.split(\"\\n\\n\")\n",
    "    return [ np.array([list(x.strip()) for x in p.split(\"\\n\") if x.strip() != \"\"]) for p in patterns  ]\n",
    "\n",
    "       \n",
    "def compute_mirrors(pattern, smudge = 0):\n",
    "    for f in [1, 100]:\n",
    "        if f == 100:\n",
    "            pattern = pattern.T\n",
    "\n",
    "        for c in range(pattern.shape[1]):\n",
    "            w = min(c, pattern.shape[1] - c)\n",
    "            if w < 1: continue\n",
    "            if np.sum(pattern[:, c-w:c] != pattern[:, c:c+w][:, ::-1]) == smudge:\n",
    "                return c * f\n",
    "\n",
    "def quiz(text, smudge = 0):\n",
    "    sum = 0\n",
    "    for i, line in enumerate(get_patterns(text)):\n",
    "        x = compute_mirrors(line, smudge)\n",
    "        sum += x\n",
    "\n",
    "    return sum\n",
    "\n",
    "assert quiz(example, 0) == 405\n",
    "assert quiz(example, 1) == 400\n",
    "\n",
    "print(quiz(text, 0))\n",
    "print(quiz(text, 1))\n"
   ]
  },
  {
   "cell_type": "code",
   "execution_count": null,
   "metadata": {},
   "outputs": [],
   "source": []
  }
 ],
 "metadata": {
  "kernelspec": {
   "display_name": "pyenv",
   "language": "python",
   "name": "python3"
  },
  "language_info": {
   "codemirror_mode": {
    "name": "ipython",
    "version": 3
   },
   "file_extension": ".py",
   "mimetype": "text/x-python",
   "name": "python",
   "nbconvert_exporter": "python",
   "pygments_lexer": "ipython3",
   "version": "3.10.12"
  }
 },
 "nbformat": 4,
 "nbformat_minor": 2
}
