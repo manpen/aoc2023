{
 "cells": [
  {
   "cell_type": "code",
   "execution_count": 7,
   "metadata": {},
   "outputs": [],
   "source": [
    "example = \"\"\"Card 1: 41 48 83 86 17 | 83 86  6 31 17  9 48 53\n",
    "Card 2: 13 32 20 16 61 | 61 30 68 82 17 32 24 19\n",
    "Card 3:  1 21 53 59 44 | 69 82 63 72 16 21 14  1\n",
    "Card 4: 41 92 73 84 69 | 59 84 76 51 58  5 54 83\n",
    "Card 5: 87 83 26 28 32 | 88 30 70 12 93 22 82 36\n",
    "Card 6: 31 18 13 56 72 | 74 77 10 23 35 67 36 11\"\"\"\n",
    "\n",
    "with open(\"manpen.txt\") as f:\n",
    "    text = f.read()\n"
   ]
  },
  {
   "cell_type": "code",
   "execution_count": 10,
   "metadata": {},
   "outputs": [
    {
     "name": "stdout",
     "output_type": "stream",
     "text": [
      "Quiz 1: 21558\n"
     ]
    }
   ],
   "source": [
    "def quiz1(lines):\n",
    "    sum = 0\n",
    "    for line in lines.split(\"\\n\"):\n",
    "        grps = line.split(\":\")[-1].split(\"|\")\n",
    "        winning = set(int(x) for x in grps[0].split())\n",
    "        have = set(int(x) for x in grps[1].split())\n",
    "        inter = winning.intersection(have)\n",
    "        if inter:\n",
    "            sum += 1 << (len(inter) - 1)\n",
    "    return sum\n",
    "\n",
    "assert quiz1(example) == 13\n",
    "\n",
    "\n",
    "print(quiz1(text))\n",
    "        "
   ]
  },
  {
   "cell_type": "code",
   "execution_count": 18,
   "metadata": {},
   "outputs": [
    {
     "name": "stdout",
     "output_type": "stream",
     "text": [
      "10425665\n"
     ]
    }
   ],
   "source": [
    "def rec(table, i, n):\n",
    "    sum = 0\n",
    "    for j in range(i + 1, min(i + 1 + n, len(table))):\n",
    "        sum += 1 + rec(table, j, table[j])\n",
    "    return sum\n",
    "            \n",
    "    \n",
    "\n",
    "def quiz2(lines):\n",
    "    points_per_card = []\n",
    "    for line in lines.split(\"\\n\"):\n",
    "        grps = line.split(\":\")[-1].split(\"|\")\n",
    "        winning = set(int(x) for x in grps[0].split())\n",
    "        have = set(int(x) for x in grps[1].split())\n",
    "        points_per_card.append(len(winning.intersection(have)))\n",
    "\n",
    "    sum = 0\n",
    "    for (i, n) in enumerate(points_per_card):\n",
    "        sum += 1 + rec(points_per_card, i, n)\n",
    "\n",
    "    return sum\n",
    "\n",
    "assert quiz2(example) == 30\n",
    "\n",
    "\n",
    "print(quiz2(text))\n"
   ]
  },
  {
   "cell_type": "code",
   "execution_count": null,
   "metadata": {},
   "outputs": [],
   "source": []
  }
 ],
 "metadata": {
  "kernelspec": {
   "display_name": "Python 3",
   "language": "python",
   "name": "python3"
  },
  "language_info": {
   "codemirror_mode": {
    "name": "ipython",
    "version": 3
   },
   "file_extension": ".py",
   "mimetype": "text/x-python",
   "name": "python",
   "nbconvert_exporter": "python",
   "pygments_lexer": "ipython3",
   "version": "3.10.12"
  }
 },
 "nbformat": 4,
 "nbformat_minor": 2
}
